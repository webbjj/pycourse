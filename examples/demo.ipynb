{
 "cells": [
  {
   "cell_type": "code",
   "execution_count": 1,
   "id": "d4d6227d-6e8e-44bc-930a-9b0fa5440fca",
   "metadata": {
    "tags": []
   },
   "outputs": [],
   "source": [
    "import pycourse as pyc\n",
    "import numpy as np\n",
    "import matplotlib.pyplot as plt"
   ]
  },
  {
   "cell_type": "markdown",
   "id": "f224a37b-ae98-4681-b851-ad4d7bd2f612",
   "metadata": {},
   "source": [
    "### Setup"
   ]
  },
  {
   "cell_type": "raw",
   "id": "c56525b6-0f24-49f8-9ad9-dade28d9a8b0",
   "metadata": {
    "tags": []
   },
   "source": [
    "#Initialize your course. \n",
    "#These inputs aren't used at the moment, but would be used in the future\n",
    "#when saving the Course object or outputting data\n",
    "\"\"\"Course class\n",
    "\n",
    "Parameters\n",
    "----------\n",
    "name : str\n",
    "    Course Name\n",
    "code : str\n",
    "    Course Code (default: None)\n",
    "semester : str\n",
    "    Semester Name (default: None)\n",
    "year : float\n",
    "    Year course is being run (default: None)\n",
    "\"\"\""
   ]
  },
  {
   "cell_type": "code",
   "execution_count": 2,
   "id": "1682a26a-1189-443f-9f79-0238900f8e58",
   "metadata": {
    "tags": []
   },
   "outputs": [],
   "source": [
    "\n",
    "course=pyc.Course(name='Test Class',code='NATS0000',semester='Winter',year='2024')"
   ]
  },
  {
   "cell_type": "raw",
   "id": "4bcb7c17-15d6-4b27-94ec-bbc24340d8de",
   "metadata": {
    "tags": []
   },
   "source": [
    "\"\"\"A grading scheme for a course\n",
    "\n",
    "Parameters\n",
    "----------\n",
    "categories : str\n",
    "    Array of category names\n",
    "weights : int or float\n",
    "    Array of category weights\n",
    "ndrops : int or float\n",
    "    Array of number of lowest assessments to drop (default: 0)\n",
    "nmisses : int or float\n",
    "    Array of number of missed assessments to drop (default: 0)\n",
    "reweighting : str\n",
    "    How should assessments in each category be reweighted if there is a drop, miss, or accomodation? (default: 'external')\n",
    "    Can be a single string or array of strings for each category\n",
    "    if 'internal':\n",
    "        assessments within each category will be reweighted while the contribution\n",
    "        of the category itself to the final grade won't change\n",
    "    if 'external':\n",
    "        All categories will be reweighted to account for a missing assessment within\n",
    "        a given category\n",
    "\"\"\""
   ]
  },
  {
   "cell_type": "code",
   "execution_count": 3,
   "id": "8acad6d3-693a-413a-8cb6-f7bbce6209e2",
   "metadata": {
    "tags": []
   },
   "outputs": [],
   "source": [
    "scheme=pyc.GradingScheme(['iClicker','Assignment','Project','Exam']\n",
    "                      ,weights=[10,10,30,50],ndrops=[1,0,0,0],nmisses=[0,0,0,0],reweighting=['internal','internal','external','external'])"
   ]
  },
  {
   "cell_type": "raw",
   "id": "f6326d5d-eae4-4340-8f34-775bfd9e897c",
   "metadata": {},
   "source": [
    "Will need to read in the gradebook manually for now. However in the future I would \n",
    "like to automate this process"
   ]
  },
  {
   "cell_type": "code",
   "execution_count": 4,
   "id": "a4372cc0-f0f2-489d-85c7-7364078873d2",
   "metadata": {
    "tags": []
   },
   "outputs": [
    {
     "name": "stdout",
     "output_type": "stream",
     "text": [
      "0 ﻿First name\n",
      "1 Last name\n",
      "2 ID number\n",
      "3 Email address\n",
      "4 External tool: Office Hours Zoom Link - Fridays @ 12:30 pm (Real)\n",
      "5 External tool: iClicker Lecture Quizzes (Real)\n",
      "6 External tool: Lecture Recordings (Real)\n",
      "7 iClicker Week 1 (Real)\n",
      "8 iClicker Week 2 (Real)\n",
      "9 iClicker Week 3 (Real)\n",
      "10 iClicker Week 4 (Real)\n",
      "11 iClicker Week 5 (Real)\n",
      "12 iClicker Week 6 (Real)\n",
      "13 iClicker Week 7 (Real)\n",
      "14 iClicker Week 8 (Real)\n",
      "15 iClicker Week 9 (Real)\n",
      "16 iClicker Week 10 (Real)\n",
      "17 iClicker Week 11 (Real)\n",
      "18 iClicker Week 13 (Real)\n",
      "19 iClicker Week 14 (Real)\n",
      "20 iClicker Week 15 (Real)\n",
      "21 iClicker Week 16 (Real)\n",
      "22 iClicker Week 17 (Real)\n",
      "23 iClicker Quizzes total (Real)\n",
      "24 Quiz: Assignment 1 (Real)\n",
      "25 Quiz: Assignment 2 (Real)\n",
      "26 Quiz: Assignment 3 (Real)\n",
      "27 Quiz: Assignment 4 (Real)\n",
      "28 Quiz: Assignment 5 (Real)\n",
      "29 Quiz: Assignment 7 (Real)\n",
      "30 Quiz: Assignment 8 (Real)\n",
      "31 Quiz: Assignment 9 (Real)\n",
      "32 Quiz: Assignment 6 (Real)\n",
      "33 Assignments total (Real)\n",
      "34 Turnitin Assignment 2: Project 1: Do-it-yourself (DIY) Spectrometry (Real)\n",
      "35 Turnitin Assignment 2: Project 2: Interview with an Extremophile (Real)\n",
      "36 Turnitin Assignment 2: Project 3: Life Beyond Earth (Real)\n",
      "37 Projects total (Real)\n",
      "38 Fall Exam (Real)\n",
      "39 Winter Exam (Real)\n",
      "40 Exams total (Real)\n",
      "41 Course total (Real)\n",
      "42 Last downloaded from this course\n",
      "\n"
     ]
    }
   ],
   "source": [
    "#Read in header of gradebook to find column number of each assessment\n",
    "file=open('test_gradebook.csv','r')\n",
    "header=file.readline().split(',')\n",
    "for i,h in enumerate(header):\n",
    "    print(i,h)\n",
    "file.close()"
   ]
  },
  {
   "cell_type": "code",
   "execution_count": 5,
   "id": "15c9b636-8001-4b24-accc-52efe5ef980b",
   "metadata": {
    "tags": []
   },
   "outputs": [],
   "source": [
    "#Read in full gradebook\n",
    "gradebook=np.loadtxt('test_gradebook.csv',skiprows=1,dtype=str,delimiter=',')"
   ]
  },
  {
   "cell_type": "raw",
   "id": "1bb8883f-d356-414a-bbbf-6012eaf2f1be",
   "metadata": {},
   "source": [
    "\"\"\"Add an array of students to the course\n",
    "\n",
    "Parameters\n",
    "----------\n",
    "firstnames : str\n",
    "    Student first names\n",
    "lastnames : str\n",
    "    Student last names\n",
    "i_ds : int\n",
    "    Student ID numbers\n",
    "emails : str\n",
    "    Student email addresses\n",
    "\"\"\""
   ]
  },
  {
   "cell_type": "code",
   "execution_count": 6,
   "id": "416d589b-413b-4bb8-8c08-062703a3c004",
   "metadata": {
    "tags": []
   },
   "outputs": [
    {
     "data": {
      "text/plain": [
       "1"
      ]
     },
     "execution_count": 6,
     "metadata": {},
     "output_type": "execute_result"
    }
   ],
   "source": [
    "#Add all of the students based on information in gradebook\n",
    "course.add_students(gradebook[:,0],gradebook[:,1],gradebook[:,2],gradebook[:,3])"
   ]
  },
  {
   "cell_type": "raw",
   "id": "1a77bbba-115a-4ca0-96df-f5751111425f",
   "metadata": {},
   "source": [
    "\"\"\"Add an assessment to the course\n",
    "\n",
    "Parameters\n",
    "----------\n",
    "category : str\n",
    "    Assessment category\n",
    "num : int\n",
    "    Assessment number within the category\n",
    "grades : float\n",
    "    Array of student grades\n",
    "due_date : str\n",
    "    Assessment due date (default: None)\n",
    "post_date : str\n",
    "    Assessment grade posting data (default: None)\n",
    "optional : bool\n",
    "    Is assessment optional or not? (default: False)\n",
    "\"\"\""
   ]
  },
  {
   "cell_type": "code",
   "execution_count": 7,
   "id": "c0a74212-688f-4235-8feb-da8f9bf21a25",
   "metadata": {
    "tags": []
   },
   "outputs": [],
   "source": [
    "#Based on information from the header, manually add each assessment\n",
    "#Note that first iClicker quiz is optional\n",
    "\n",
    "nassess=1\n",
    "for i in range(7,23):\n",
    "    if nassess==1:\n",
    "        course.add_assessment('iClicker',nassess,gradebook[:,i].tolist(),optional=True)\n",
    "    else:\n",
    "        course.add_assessment('iClicker',nassess,gradebook[:,i].tolist())\n",
    "    nassess+=1\n",
    "\n",
    "nassess=1\n",
    "for i in [24,25,26,27,28,32,29,30,31]:\n",
    "    course.add_assessment('Assignment',nassess,gradebook[:,i].tolist())\n",
    "    nassess+=1\n",
    "\n",
    "nassess=1\n",
    "for i in [34,35,36]:\n",
    "    course.add_assessment('Project',nassess,gradebook[:,i].tolist())\n",
    "    nassess+=1\n",
    "\n",
    "nassess=1\n",
    "for i in [38,39]:\n",
    "    course.add_assessment('Exam',nassess,gradebook[:,i].tolist())\n",
    "    nassess+=1"
   ]
  },
  {
   "cell_type": "code",
   "execution_count": 8,
   "id": "2960554e-ad42-4068-be52-59c3a563f795",
   "metadata": {
    "tags": []
   },
   "outputs": [
    {
     "data": {
      "text/plain": [
       "array(['iClicker', 'Assignment', 'Project', 'Exam'], dtype='<U32')"
      ]
     },
     "execution_count": 8,
     "metadata": {},
     "output_type": "execute_result"
    }
   ],
   "source": [
    "#Sanity check to confirm what the course categories are\n",
    "course.cat"
   ]
  },
  {
   "cell_type": "code",
   "execution_count": 9,
   "id": "6227d7d6-779a-4390-98c8-c33b70f146a0",
   "metadata": {
    "tags": []
   },
   "outputs": [
    {
     "data": {
      "text/plain": [
       "array(['iClicker', 'iClicker', 'iClicker', 'iClicker', 'iClicker',\n",
       "       'iClicker', 'iClicker', 'iClicker', 'iClicker', 'iClicker',\n",
       "       'iClicker', 'iClicker', 'iClicker', 'iClicker', 'iClicker',\n",
       "       'iClicker', 'Assignment', 'Assignment', 'Assignment', 'Assignment',\n",
       "       'Assignment', 'Assignment', 'Assignment', 'Assignment',\n",
       "       'Assignment', 'Project', 'Project', 'Project', 'Exam', 'Exam'],\n",
       "      dtype='<U32')"
      ]
     },
     "execution_count": 9,
     "metadata": {},
     "output_type": "execute_result"
    }
   ],
   "source": [
    "#Sanity check to confirm which grade from the gradebook corresponds to what category\n",
    "course.categories"
   ]
  },
  {
   "cell_type": "raw",
   "id": "c20ddbe6-25b4-4a4d-a6e3-0d89138ff4d6",
   "metadata": {},
   "source": [
    "\"\"\"Add an accomodation for a select student\n",
    "\n",
    "Parameters\n",
    "----------\n",
    "firstname : str\n",
    "    strudents first name (default : None)\n",
    "lastname : str\n",
    "    strudents lastname (default : None)\n",
    "i_d : int\n",
    "    strudents i_d (default : None)\n",
    "email : str\n",
    "    strudents email address (default : None)\n",
    "category : str\n",
    "    category that accomodation is to be applied (default: None)\n",
    "num : int\n",
    "    assessment number within category that accomodation is to be appled (default: None)\n",
    "ndrops : int\n",
    "    number of lowest assessments within category to be dropped for accomodated student\n",
    "nmisses : int\n",
    "    number of missed assessments within category to be dropped for accomodated student\n",
    "\"\"\""
   ]
  },
  {
   "cell_type": "code",
   "execution_count": 10,
   "id": "a5558917-3d51-4403-9c24-2cd591f8c0e1",
   "metadata": {
    "tags": []
   },
   "outputs": [],
   "source": [
    "#Add accomodation for Student 1 to drop lowest assignment using lastname\n",
    "#as identifier\n",
    "course.add_accomodation(lastname='1',category='Assignment',ndrops=1)\n",
    "\n",
    "#Add accomodation for Student 2 to drop an additional iClicker using i_d\n",
    "#as identifier\n",
    "course.add_accomodation(i_d='2',category='iClicker',nmisses=1)\n",
    "\n",
    "#Add accomodation for Student 3 to exclude Assignment 3 using email\n",
    "#as identifier\n",
    "course.add_accomodation(email='Student3@my.yorku.ca',category='Assignment',num=3)"
   ]
  },
  {
   "cell_type": "raw",
   "id": "f1a282e5-7afd-4f42-af3d-29611e813554",
   "metadata": {},
   "source": [
    "\"\"\"Calculate final category grades and final grades\n",
    "\n",
    "Parameters\n",
    "----------\n",
    "scheme : class\n",
    "    Grading scheme for the course\n",
    "\"\"\""
   ]
  },
  {
   "cell_type": "code",
   "execution_count": 11,
   "id": "02bbdab5-03e6-41dc-a73b-6f6b89ff1aef",
   "metadata": {
    "tags": []
   },
   "outputs": [],
   "source": [
    "course.calc_grades(scheme)"
   ]
  },
  {
   "cell_type": "markdown",
   "id": "26db48b9-7378-4a6e-b88f-5c5b2294b2e1",
   "metadata": {},
   "source": [
    "### Analysis"
   ]
  },
  {
   "cell_type": "code",
   "execution_count": 12,
   "id": "027f8444-f6fb-48a4-aa2a-9e082bd81887",
   "metadata": {
    "tags": []
   },
   "outputs": [
    {
     "name": "stdout",
     "output_type": "stream",
     "text": [
      "Student 1s grade in each assessment is:  [ 50.          50.         100.          91.67       100.\n",
      "  78.57       100.           0.         100.          80.\n",
      "  90.           0.         100.           0.          91.67\n",
      "  80.          80.95        71.43        92.          76.19\n",
      "  95.           0.         100.          65.          80.\n",
      "  88.          93.33         0.          36.          78.57432125]\n",
      "The default weighting scheme was:  [ 0.625       0.625       0.625       0.625       0.625       0.625\n",
      "  0.625       0.625       0.625       0.625       0.625       0.625\n",
      "  0.625       0.625       0.625       0.625       1.11111111  1.11111111\n",
      "  1.11111111  1.11111111  1.11111111  1.11111111  1.11111111  1.11111111\n",
      "  1.11111111 10.         10.         10.         25.         25.        ]\n",
      "The weightings used to calculate Student1s grade are:  [ 0.66666667  0.66666667  0.66666667  0.66666667  0.66666667  0.66666667\n",
      "  0.66666667  0.          0.66666667  0.66666667  0.66666667  0.66666667\n",
      "  0.66666667  0.66666667  0.66666667  0.66666667  1.25        1.25\n",
      "  1.25        1.25        1.25        0.          1.25        1.25\n",
      "  1.25       10.         10.         10.         25.         25.        ]\n",
      "Student 1s final grade is : 62.44643864583333\n",
      "Student 1s grades in each category are : [ 7.41273333  8.257125   18.133      28.64358031]\n"
     ]
    }
   ],
   "source": [
    "#Consider student1:\n",
    "print('Student 1s grade in each assessment is: ',course.grades[0])\n",
    "print('The default weighting scheme was: ',course.weights0)\n",
    "print('The weightings used to calculate Student1s grade are: ',course.weights[0])\n",
    "\n",
    "print('Student 1s final grade is :',course.final_grades[0])\n",
    "print('Student 1s grades in each category are :',course.final_cat_grades[0])\n"
   ]
  },
  {
   "cell_type": "code",
   "execution_count": 13,
   "id": "62708810-3efe-46d0-acef-1e32a4fd038e",
   "metadata": {
    "tags": []
   },
   "outputs": [
    {
     "name": "stdout",
     "output_type": "stream",
     "text": [
      "Average =  60.72337399050131\n",
      "Median =  63.25323160986111\n",
      "STD =  16.923932956744714\n"
     ]
    }
   ],
   "source": [
    "#Consider global properties\n",
    "print('Average = ',np.mean(course.final_grades))\n",
    "print('Median = ',np.median(course.final_grades))\n",
    "print('STD = ',np.std(course.final_grades))"
   ]
  },
  {
   "cell_type": "code",
   "execution_count": 14,
   "id": "7e8c7280-c9a1-44a9-b25b-651525491203",
   "metadata": {
    "tags": []
   },
   "outputs": [
    {
     "data": {
      "image/png": "[encoded data removed]",
      "text/plain": [
       "<Figure size 640x480 with 1 Axes>"
      ]
     },
     "metadata": {},
     "output_type": "display_data"
    }
   ],
   "source": [
    "#Plot final grade distribution\n",
    "\n",
    "plt.hist(course.final_grades)\n",
    "plt.xlabel('Final Grade (%)')\n",
    "plt.ylabel('N')\n",
    "plt.show()\n",
    "plt.close()"
   ]
  },
  {
   "cell_type": "code",
   "execution_count": 15,
   "id": "951f63bd-c0d0-4a7c-a937-ec6617e76599",
   "metadata": {
    "tags": []
   },
   "outputs": [
    {
     "data": {
      "image/png": "[encoded data removed]",
      "text/plain": [
       "<Figure size 640x480 with 1 Axes>"
      ]
     },
     "metadata": {},
     "output_type": "display_data"
    },
    {
     "data": {
      "image/png": "[encoded data removed]",
      "text/plain": [
       "<Figure size 640x480 with 1 Axes>"
      ]
     },
     "metadata": {},
     "output_type": "display_data"
    },
    {
     "data": {
      "image/png": "[encoded data removed]",
      "text/plain": [
       "<Figure size 640x480 with 1 Axes>"
      ]
     },
     "metadata": {},
     "output_type": "display_data"
    },
    {
     "data": {
      "image/png": "[encoded data removed]",
      "text/plain": [
       "<Figure size 640x480 with 1 Axes>"
      ]
     },
     "metadata": {},
     "output_type": "display_data"
    }
   ],
   "source": [
    "#Plot grade distribution in each category\n",
    "\n",
    "for i in range(0,len(course.cat)):\n",
    "    #Plot final grade distribution\n",
    "    plt.hist(100.0*course.final_cat_grades[:,i]/scheme.weights[course.cat[i]])\n",
    "    plt.xlabel('Final Grade (%)')\n",
    "    plt.ylabel('N')\n",
    "    plt.title(course.cat[i])\n",
    "    plt.show()\n",
    "    plt.close()"
   ]
  },
  {
   "cell_type": "markdown",
   "id": "fbf4ce08-6b9b-46bb-9eab-f3055fa85d37",
   "metadata": {},
   "source": [
    "### Optimize Grades"
   ]
  },
  {
   "cell_type": "raw",
   "id": "3eeaa0ae-d52f-44de-bd25-24c19d40e9c9",
   "metadata": {},
   "source": [
    "If instead of one grading scheme, you have several, it is possible\n",
    "to define many schemes and then optimize each student's grade. Each student's\n",
    "individual weighting will be in course.weights"
   ]
  },
  {
   "cell_type": "code",
   "execution_count": 16,
   "id": "43b457ba-cbde-43b8-842a-f1ede3d79263",
   "metadata": {
    "tags": []
   },
   "outputs": [],
   "source": [
    "scheme_1=pyc.GradingScheme(['iClicker','Assignment','Project','Exam']\n",
    "                      ,weights=[10,10,30,50],ndrops=[1,0,0,0],nmisses=[0,0,0,0],reweighting=['internal','internal','external','external'])\n",
    "\n",
    "scheme_2=pyc.GradingScheme(['iClicker','Assignment','Project','Exam']\n",
    "                      ,weights=[10,10,20,40],ndrops=[0,0,0,0],nmisses=[1,1,1,1],reweighting=['internal','internal','external','external'])\n",
    "\n",
    "scheme_3=pyc.GradingScheme(['iClicker','Assignment','Project','Exam']\n",
    "                      ,weights=[20,20,20,20],ndrops=[1,1,0,0],nmisses=[0,0,0,0],reweighting=['internal','internal','external','external'])"
   ]
  },
  {
   "cell_type": "raw",
   "id": "663cbf57-c582-491c-b05e-36be7572756d",
   "metadata": {},
   "source": [
    "\"\"\"Calculate final category grades and final grades using the scheme that maximizes grade\n",
    "\n",
    "Parameters\n",
    "----------\n",
    "schemes : class\n",
    "    Grading schemes for the course\n",
    "\"\"\""
   ]
  },
  {
   "cell_type": "code",
   "execution_count": 17,
   "id": "4168f1ba-94ab-492f-80ad-0e2d76a5e5c0",
   "metadata": {
    "tags": []
   },
   "outputs": [],
   "source": [
    "course.optimize_grades([scheme_1,scheme_2,scheme_3])"
   ]
  },
  {
   "cell_type": "code",
   "execution_count": 18,
   "id": "326c25d8-8425-4165-9001-7bd94685e798",
   "metadata": {},
   "outputs": [
    {
     "name": "stdout",
     "output_type": "stream",
     "text": [
      "Student 1s grade in each assessment is:  [ 50.          50.         100.          91.67       100.\n",
      "  78.57       100.           0.         100.          80.\n",
      "  90.           0.         100.           0.          91.67\n",
      "  80.          80.95        71.43        92.          76.19\n",
      "  95.           0.         100.          65.          80.\n",
      "  88.          93.33         0.          36.          78.57432125]\n",
      "The weightings used to calculate Student1s grade are:  [ 0.90909091  0.90909091  0.90909091  0.90909091  0.90909091  0.90909091\n",
      "  0.90909091  0.          0.90909091  0.90909091  0.90909091  0.90909091\n",
      "  0.90909091  0.90909091  0.90909091  0.90909091  1.94805195  1.94805195\n",
      "  1.94805195  1.94805195  1.94805195  0.          1.94805195  0.\n",
      "  1.94805195  9.09090909  9.09090909  0.         27.27272727 27.27272727]\n",
      "Student 1s final grade is : 69.44237332792208\n",
      "Student 1s grades in each category are : [10.10827273 11.60201299 16.48454545 31.24754216]\n"
     ]
    }
   ],
   "source": [
    "#Consider student1:\n",
    "print('Student 1s grade in each assessment is: ',course.grades[0])\n",
    "print('The weightings used to calculate Student1s grade are: ',course.weights[0])\n",
    "\n",
    "print('Student 1s final grade is :',course.final_grades[0])\n",
    "print('Student 1s grades in each category are :',course.final_cat_grades[0])"
   ]
  },
  {
   "cell_type": "code",
   "execution_count": 19,
   "id": "74a53948-2563-48ec-8ae7-d83c23bfaed3",
   "metadata": {
    "tags": []
   },
   "outputs": [
    {
     "name": "stdout",
     "output_type": "stream",
     "text": [
      "Average =  68.13920288454294\n",
      "Median =  71.94036145890152\n",
      "STD =  17.721271516923725\n"
     ]
    }
   ],
   "source": [
    "#Consider global properties\n",
    "print('Average = ',np.mean(course.final_grades))\n",
    "print('Median = ',np.median(course.final_grades))\n",
    "print('STD = ',np.std(course.final_grades))"
   ]
  },
  {
   "cell_type": "code",
   "execution_count": 20,
   "id": "ca9e1292-a278-4ace-88f3-383d4d92a619",
   "metadata": {
    "tags": []
   },
   "outputs": [
    {
     "data": {
      "image/png": "[encoded data removed]",
      "text/plain": [
       "<Figure size 640x480 with 1 Axes>"
      ]
     },
     "metadata": {},
     "output_type": "display_data"
    }
   ],
   "source": [
    "#Plot final grade distribution\n",
    "\n",
    "plt.hist(course.final_grades)\n",
    "plt.xlabel('Final Grade (%)')\n",
    "plt.ylabel('N')\n",
    "plt.show()\n",
    "plt.close()"
   ]
  },
  {
   "cell_type": "markdown",
   "id": "3260230d-d922-47d4-a9b5-908f99a5ac4f",
   "metadata": {},
   "source": [
    "### Output"
   ]
  },
  {
   "cell_type": "raw",
   "id": "0d659b42-4590-4946-8253-86729fe68f0d",
   "metadata": {},
   "source": [
    "Save grades to file"
   ]
  },
  {
   "cell_type": "code",
   "execution_count": 25,
   "id": "0da2bb21-6473-4852-8a0c-601f50a90569",
   "metadata": {
    "tags": []
   },
   "outputs": [],
   "source": [
    "np.savetxt('final_grades.csv',np.column_stack([course.emails,course.final_grades]),fmt='%s',delimiter=',')"
   ]
  },
  {
   "cell_type": "code",
   "execution_count": null,
   "id": "2104ad5c-4993-4497-9ba2-bd4100f0b29f",
   "metadata": {},
   "outputs": [],
   "source": []
  }
 ],
 "metadata": {
  "kernelspec": {
   "display_name": "Python 3 (ipykernel)",
   "language": "python",
   "name": "python3"
  },
  "language_info": {
   "codemirror_mode": {
    "name": "ipython",
    "version": 3
   },
   "file_extension": ".py",
   "mimetype": "text/x-python",
   "name": "python",
   "nbconvert_exporter": "python",
   "pygments_lexer": "ipython3",
   "version": "3.11.3"
  }
 },
 "nbformat": 4,
 "nbformat_minor": 5
}
